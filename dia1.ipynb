{
 "cells": [
  {
   "cell_type": "code",
   "execution_count": 1,
   "id": "0f41084e",
   "metadata": {},
   "outputs": [
    {
     "name": "stdout",
     "output_type": "stream",
     "text": [
      "Hola mundo\n"
     ]
    }
   ],
   "source": [
    "print(\"Hola mundo\")"
   ]
  },
  {
   "cell_type": "markdown",
   "id": "6ad26588",
   "metadata": {},
   "source": [
    "\n",
    "## Challenge 🤺 - 20m\n",
    "\n",
    "Suma: asignar dos números en dos variables diferentes `cantidad_de_manzanas` y `cantidad_de_naranjas`. Luego sumar ambas variables en `cantidad_de_frutas`. Imprimir la última variable.\n",
    "\n",
    "Resta: asignar un valor numérico a la variable `frutas_vendidas`. Luego, asignar la resta entre `cantidad_de_frutas` y `frutas_vendidas` a la variable `frutas_restantes`. Imprimir la última variable."
   ]
  },
  {
   "cell_type": "code",
   "execution_count": 1,
   "id": "4c4db160",
   "metadata": {},
   "outputs": [
    {
     "name": "stdout",
     "output_type": "stream",
     "text": [
      "25\n",
      "45\n"
     ]
    }
   ],
   "source": [
    "cantidad_de_manzanas = 15\n",
    "cantidad_de_naranjas = 30\n",
    "cantidad_de_frutas = cantidad_de_manzanas + cantidad_de_naranjas\n",
    "\n",
    "frutas_vendidas = 20\n",
    "frutas_restantes = cantidad_de_frutas - frutas_vendidas\n",
    "print (frutas_restantes)\n",
    "print (cantidad_de_frutas)"
   ]
  },
  {
   "cell_type": "code",
   "execution_count": 8,
   "id": "9827effa",
   "metadata": {},
   "outputs": [
    {
     "name": "stdout",
     "output_type": "stream",
     "text": [
      "Hola me llamo: Cristina Molinas, mucho gusto\n"
     ]
    }
   ],
   "source": [
    "nombre = \"Cristina\" \n",
    "apellido = \"Molinas\"\n",
    "\n",
    "print(f\"Hola me llamo: {nombre} {apellido}, mucho gusto\")"
   ]
  },
  {
   "cell_type": "code",
   "execution_count": 12,
   "id": "ee66a16d",
   "metadata": {},
   "outputs": [
    {
     "name": "stdout",
     "output_type": "stream",
     "text": [
      "La suma de los numeros es:  5\n"
     ]
    }
   ],
   "source": [
    "numero1 = int(input(\"dame un numero\"))\n",
    "numero2 = int(input(\"dame otro numero\"))\n",
    "suma = numero1 + numero2\n",
    "print(\"La suma de los numeros es: \", suma)"
   ]
  },
  {
   "cell_type": "code",
   "execution_count": 16,
   "id": "ddcdc3c5",
   "metadata": {},
   "outputs": [
    {
     "name": "stdout",
     "output_type": "stream",
     "text": [
      "comprar materiales\n",
      "derretir la cera\n",
      "agregar esencia\n",
      "verter en el vaso\n",
      "dejar que se endurezca\n",
      "listo!\n",
      "comprar materiales\n",
      "derretir la cera\n",
      "agregar esencia\n",
      "verter en el vaso\n",
      "dejar que se endurezca\n",
      "listo!\n",
      "comprar materiales\n",
      "derretir la cera\n",
      "agregar esencia\n",
      "verter en el vaso\n",
      "dejar que se endurezca\n",
      "listo!\n"
     ]
    }
   ],
   "source": [
    "def preparar_una_vela() :\n",
    "    print(\"comprar materiales\")\n",
    "    print(\"derretir la cera\")\n",
    "    print(\"agregar esencia\")\n",
    "    print(\"verter en el vaso\")\n",
    "    print(\"dejar que se endurezca\")\n",
    "    print(\"listo!\")\n",
    "\n",
    " \n",
    "preparar_una_vela() \n",
    "preparar_una_vela() \n",
    "preparar_una_vela() "
   ]
  },
  {
   "cell_type": "code",
   "execution_count": 19,
   "id": "ef27d918",
   "metadata": {},
   "outputs": [
    {
     "name": "stdout",
     "output_type": "stream",
     "text": [
      "comprar ingredientes\n",
      "hacer la masa\n",
      "poner la salsa\n",
      "elegir el sabor : pepperoni\n",
      "cocinar en el horno\n",
      "a comer!\n",
      " \n",
      "comprar ingredientes\n",
      "hacer la masa\n",
      "poner la salsa\n",
      "elegir el sabor : margarita\n",
      "cocinar en el horno\n",
      "a comer!\n"
     ]
    }
   ],
   "source": [
    "def preparar_una_pizza(sabor) :\n",
    "    print(\"comprar ingredientes\")\n",
    "    print(\"hacer la masa\")\n",
    "    print(\"poner la salsa\")\n",
    "    print(f'elegir el sabor : {sabor}')\n",
    "    print(\"cocinar en el horno\")\n",
    "    print(\"a comer!\")\n",
    "\n",
    "preparar_una_pizza ('pepperoni')\n",
    "print(\" \")\n",
    "preparar_una_pizza ('margarita')\n",
    "\n"
   ]
  }
 ],
 "metadata": {
  "kernelspec": {
   "display_name": "Python 3",
   "language": "python",
   "name": "python3"
  },
  "language_info": {
   "codemirror_mode": {
    "name": "ipython",
    "version": 3
   },
   "file_extension": ".py",
   "mimetype": "text/x-python",
   "name": "python",
   "nbconvert_exporter": "python",
   "pygments_lexer": "ipython3",
   "version": "3.12.3"
  }
 },
 "nbformat": 4,
 "nbformat_minor": 5
}
