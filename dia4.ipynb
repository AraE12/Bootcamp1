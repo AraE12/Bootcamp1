{
 "cells": [
  {
   "cell_type": "markdown",
   "id": "b04c13bf",
   "metadata": {},
   "source": [
    "Challenge 1 🤺\n",
    "Escribir un programa que cree un diccionario vacío y lo vaya llenado con información sobre una persona (por ejemplo nombre, edad, sexo, teléfono, correo electrónico, etc.) que se le pida al usuario. Cada vez que se añada un nuevo dato debe imprimirse el contenido del diccionario."
   ]
  },
  {
   "cell_type": "code",
   "execution_count": null,
   "id": "f9d8054d",
   "metadata": {},
   "outputs": [],
   "source": []
  },
  {
   "cell_type": "code",
   "execution_count": null,
   "id": "e82a26a7",
   "metadata": {},
   "outputs": [
    {
     "name": "stdout",
     "output_type": "stream",
     "text": [
      "{'nombre': 'juan'}\n",
      "{'nombre': 'juan', 'edad': '30'}\n",
      "{'nombre': 'juan', 'edad': '30', 'sexo': 'masc'}\n",
      "{'nombre': 'juan', 'edad': '30', 'sexo': 'masc', 'telefono': 'masc'}\n",
      "{'nombre': 'juan', 'edad': '30', 'sexo': 'masc', 'telefono': 'masc', 'correo_electronico': '0986789'}\n"
     ]
    }
   ],
   "source": [
    "\n",
    "contacto = {}\n",
    "nombre = input('ingresar nombre')\n",
    "contacto['nombre'] = nombre\n",
    "print(contacto)\n",
    "\n",
    "edad = int((input('ingresar edad')))\n",
    "contacto['edad'] = edad\n",
    "print(contacto)\n",
    "\n",
    "sexo = input('ingresar sexo')\n",
    "contacto['sexo'] = sexo\n",
    "print(contacto)\n",
    "\n",
    "telefono = int(input('ingresar telefono'))\n",
    "contacto['telefono'] = telefono\n",
    "print(contacto)\n",
    "\n",
    "correo_electronico = input('ingresar telefono')\n",
    "contacto['correo_electronico'] = correo_electronico\n",
    "print(contacto)\n"
   ]
  },
  {
   "cell_type": "markdown",
   "id": "ea401561",
   "metadata": {},
   "source": [
    "Challenge 2 🤺\n",
    "Crear una tarjeta personal. El usuario (mediante input) puede elegir:\n",
    "\n",
    "Crear datos nuevos\n",
    "Modificar datos\n",
    "Eliminar datos"
   ]
  },
  {
   "cell_type": "code",
   "execution_count": null,
   "id": "c4621af1",
   "metadata": {},
   "outputs": [],
   "source": [
    "mi_diccionario = {} \n",
    "while True:\n",
    "    opcion = input('Desea: Agregar, Modificar o Eliminar').lower()\n",
    "    if opcion == 'agregar':\n",
    "        clave = input('ingrese una clave').lower()\n",
    "        valor = input('ingrese un valor a la clave').lower()\n",
    "        mi_diccionario[clave] = valor\n",
    "        print(mi_diccionario)\n",
    "    elif opcion == 'modificar':\n",
    "        mi_diccionario.keys()\n",
    "        clave_modificar = input('introducir clave a modificar').lower()\n",
    "        nuevo_valor = input('introducir nuevo valor')\n",
    "        mi_diccionario[clave_modificar] = nuevo_valor\n",
    "        print(mi_diccionario)\n",
    "    elif opcion == 'eliminar':\n",
    "        mi_diccionario.keys()\n",
    "        clave_eliminar= input('introducir clave a eliminar').lower()\n",
    "        mi_diccionario[clave_modificar] = nuevo_valor\n",
    "        print(mi_diccionario)\n",
    "        del mi_diccionario[clave_eliminar]\n",
    "    elif opcion == 'salir':\n",
    "        print('gracias por todo')\n",
    "        break\n",
    "    else:\n",
    "        print('opcion no valida')\n",
    "\n",
    "\n",
    "\n"
   ]
  },
  {
   "cell_type": "markdown",
   "id": "8f2a0b99",
   "metadata": {},
   "source": [
    "Challenge 3 🤺\n",
    "Crear una agenda de contactos. El usuario puede elegir:\n",
    "\n",
    "Mostrar los contactos\n",
    "Crear contacto\n",
    "Modificar datos del contacto"
   ]
  },
  {
   "cell_type": "code",
   "execution_count": null,
   "id": "f1cd4081",
   "metadata": {},
   "outputs": [],
   "source": [
    "agenda = {'nombre' : 'laura', \n",
    "          'apellido': 'lopez', \n",
    "          'correo' : 'lau12@gmail.com',\n",
    "          'numero' : 98765789 }\n",
    "{'nombre' : 'lucas', \n",
    "          'apellido': 'perez', \n",
    "          'correo' : 'luks5467@gmail.com',\n",
    "          'numero' : 98223457}\n",
    "\n"
   ]
  },
  {
   "cell_type": "markdown",
   "id": "9399b501",
   "metadata": {},
   "source": [
    "Challenge 🤺\n",
    "Crear dos métodos para nuestro animal y ejecutar, debe ser algo específico de ese animal.\n",
    "\n",
    "Ejemplo: \"Cuando hablo, digo X\".\n",
    "Ejemplo: \"Cuando me muevo, hago X\"."
   ]
  },
  {
   "cell_type": "code",
   "execution_count": 13,
   "id": "65fc703d",
   "metadata": {},
   "outputs": [
    {
     "name": "stdout",
     "output_type": "stream",
     "text": [
      "cuando como cierro los ojos\n",
      "Ahhhhh\n"
     ]
    }
   ],
   "source": [
    "class Tortuga:\n",
    "    ojos = 2\n",
    "    patas = 4\n",
    "    caparazon = 1\n",
    "#atributo\n",
    "    def __init__(self, color, raza):\n",
    "        self.color = color\n",
    "        self.raza = raza\n",
    "\n",
    "    def comer(self):\n",
    "        return(\"cuando como cierro los ojos\")\n",
    "    def gemido(self):\n",
    "        return(\"Ahhhhh\")\n",
    "    \n",
    "    #creamos nuestro objeto\n",
    "\n",
    "philipo = Tortuga(\"verde\" , 'tierra')\n",
    "\n",
    "print(philipo.comer())\n",
    "print(philipo.gemido())"
   ]
  },
  {
   "cell_type": "code",
   "execution_count": 11,
   "id": "8de0a026",
   "metadata": {},
   "outputs": [
    {
     "name": "stdout",
     "output_type": "stream",
     "text": [
      "Holaa(en miau)\n"
     ]
    }
   ],
   "source": [
    "class Gato:\n",
    "    orejas =2 \n",
    "    patas=4\n",
    "    tipo = \"felino\"\n",
    "    def __init__(self, color, tamanho):\n",
    "        self.color = color\n",
    "        self.tamanho = tamanho\n",
    "    def maulla(self):\n",
    "        return ('Holaa(en miau)')\n",
    "    def sonido(self):\n",
    "        return('Ronronea fuerte')\n",
    "    def salta(self):\n",
    "        return ('Saltaa alto')\n",
    "eldestructordesofas = Gato('blanco', 'grande')\n",
    "print(f'{eldestructordesofas.maulla()}')"
   ]
  },
  {
   "cell_type": "markdown",
   "id": "de3a2236",
   "metadata": {},
   "source": [
    "Challenge 🤺\n",
    "Definir una clase madre que herede a sus clases hijas dos atributos de instancia. Mostrar ambos atributos en pantalla desde los objetos de las clases hijas.\n",
    "\n",
    "Observación: Editar las clases hijas para que no se inicialicen."
   ]
  },
  {
   "cell_type": "code",
   "execution_count": 17,
   "id": "9b5bd220",
   "metadata": {},
   "outputs": [
    {
     "data": {
      "text/plain": [
       "'negro'"
      ]
     },
     "execution_count": 17,
     "metadata": {},
     "output_type": "execute_result"
    }
   ],
   "source": [
    "class Gatito(Gato): \n",
    "    def juega(self):\n",
    "        return ('juega con el hilo')\n",
    "    def come(self):\n",
    "        return('come atun')\n",
    "\n",
    "mishu = Gatito('negro', 'mediano')\n",
    "mishu.color\n",
    "    "
   ]
  }
 ],
 "metadata": {
  "kernelspec": {
   "display_name": "Python 3",
   "language": "python",
   "name": "python3"
  },
  "language_info": {
   "codemirror_mode": {
    "name": "ipython",
    "version": 3
   },
   "file_extension": ".py",
   "mimetype": "text/x-python",
   "name": "python",
   "nbconvert_exporter": "python",
   "pygments_lexer": "ipython3",
   "version": "3.12.3"
  }
 },
 "nbformat": 4,
 "nbformat_minor": 5
}
