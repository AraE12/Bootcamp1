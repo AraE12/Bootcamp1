{
 "cells": [
  {
   "cell_type": "markdown",
   "id": "9c4dc7c1",
   "metadata": {},
   "source": [
    "Challenge🤺 - 20m\n",
    "Escribe un programa que pregunte al usuario por su edad y determine si tiene edad suficiente para comprar y consumir alcohol.\n",
    "Si el usuario tiene mas de 18 pero menos de 21 impirmir \"Podes tomar pero no comprar\"\n",
    "Si el usuario tiene menos de 18 imprimir \"Juguito nomas\"\n",
    "Si el usuario tiene mas de 21 imprimir \"Hace lo que quieras\""
   ]
  },
  {
   "cell_type": "code",
   "execution_count": 32,
   "id": "0f204e45",
   "metadata": {},
   "outputs": [
    {
     "name": "stdout",
     "output_type": "stream",
     "text": [
      "Podes tomar, pero no comprar\n"
     ]
    }
   ],
   "source": [
    "edad = 18\n",
    "if edad < 18:\n",
    "    print(\"Juguito nomas\")\n",
    "elif edad < 21:\n",
    "    print(\"Podes tomar, pero no comprar\")\n",
    "else :\n",
    "    print(\"Hace lo que quieras\")\n",
    "\n",
    "\n"
   ]
  },
  {
   "cell_type": "markdown",
   "id": "691c4fdd",
   "metadata": {},
   "source": [
    "Challenge  - 30m\n",
    "Escribir un programa en el que se pregunte al usuario por una temperatura (en grados Celsius), imprima la temperatura escrita, y luego clasificar la temperatura ingresada en los siguientes niveles:\n",
    "\n",
    "Entre -10 y 18 grados, que imprima \"Fresquete\".\n",
    "Entre 19 y 30 grados, que imprima \"Calor'i\".\n",
    "Entre 31 y 45 grados, que imprima \"Hakuuuuuu\".\n",
    "Para todo lo demás, imprimir \"Ñamano mba'e!\"."
   ]
  },
  {
   "cell_type": "code",
   "execution_count": 46,
   "id": "2095b161",
   "metadata": {},
   "outputs": [
    {
     "name": "stdout",
     "output_type": "stream",
     "text": [
      "La temperatura es: 18\n",
      "fresquete\n"
     ]
    }
   ],
   "source": [
    "temperatura = int(input('Introduce la temperatura'))\n",
    "print('La temperatura es:' , temperatura)\n",
    "if temperatura >= -10 and temperatura <= 18:\n",
    "    print(\"fresquete\")\n",
    "elif temperatura >= 19 and temperatura <= 30:\n",
    " print(\"Calor'i\")\n",
    "elif temperatura >= 31 and temperatura <=45:\n",
    " print('Hakuuuuu')\n",
    "else:\n",
    " print(\"Ñamano mba'e\")\n"
   ]
  },
  {
   "cell_type": "markdown",
   "id": "dbc6fcaa",
   "metadata": {},
   "source": [
    "Challenge  - 20m\n",
    "Escribir un programa que almacene una contraseña en una variable, y pregunte al usuario por la contraseña hasta que introduzca la contraseña correcta.\n",
    "\n",
    "Cuando el usuario ingrese la contrasena correcta, imprimir un mensaje secreto."
   ]
  },
  {
   "cell_type": "code",
   "execution_count": null,
   "id": "6165c7f0",
   "metadata": {},
   "outputs": [
    {
     "name": "stdout",
     "output_type": "stream",
     "text": [
      "La contraseña es correcta\n"
     ]
    }
   ],
   "source": [
    "contraseña = 18\n",
    "while True:\n",
    "    contraseña_correcta = int(input('Ingresar la contraseña'))\n",
    "\n",
    "    if contraseña == contraseña_correcta:\n",
    "        print('La contraseña es correcta')\n",
    "        break \n",
    "\n",
    "    \n",
    "\n"
   ]
  },
  {
   "cell_type": "markdown",
   "id": "c65d4cc0",
   "metadata": {},
   "source": [
    "Challenge 🤺 - 20m\n",
    "Crear una lista de 5 elementos. Luego, seguir los siguientes pasos.\n",
    "\n",
    "Agregar un elemento al final de la lista.\n",
    "\n",
    "Modificar el segundo elemento.\n",
    "\n",
    "Eliminar el tercer elemento."
   ]
  },
  {
   "cell_type": "code",
   "execution_count": 59,
   "id": "3a8090c5",
   "metadata": {},
   "outputs": [
    {
     "name": "stdout",
     "output_type": "stream",
     "text": [
      "['lapiz', 'borrador', 'boligrafo', 'cuaderno', 'mina', 'corrector']\n",
      "['lapiz', 'pincel', 'boligrafo', 'cuaderno', 'mina', 'corrector']\n",
      "['lapiz', 'pincel', 'boligrafo', 'mina', 'corrector']\n"
     ]
    }
   ],
   "source": [
    "lista_utiles = ['lapiz', 'borrador', 'boligrafo', 'cuaderno', 'mina']\n",
    "lista_utiles.append('corrector')\n",
    "print(lista_utiles)\n",
    "lista_utiles[1] = 'pincel'\n",
    "print(lista_utiles)\n",
    "lista_utiles.remove('cuaderno')\n",
    "print(lista_utiles)"
   ]
  },
  {
   "cell_type": "markdown",
   "id": "adeb3b5d",
   "metadata": {},
   "source": [
    "Challenge  - 20m\n",
    "Escribir un programa que itere en un rango de 10 veces. Por cada iteracion multiplicar el iterador por dos e imprimir el resultado."
   ]
  },
  {
   "cell_type": "code",
   "execution_count": 64,
   "id": "1798287e",
   "metadata": {},
   "outputs": [
    {
     "name": "stdout",
     "output_type": "stream",
     "text": [
      "0\n",
      "2\n",
      "4\n",
      "6\n",
      "8\n",
      "10\n",
      "12\n",
      "14\n",
      "16\n",
      "18\n"
     ]
    }
   ],
   "source": [
    "for i in range (10):\n",
    "    print(i* 2)"
   ]
  },
  {
   "cell_type": "markdown",
   "id": "3b91ddf7",
   "metadata": {},
   "source": [
    "Challenge 🤺 - 20m\n",
    "Recorrer los elementos de una lista de marcas e imprimir cada marca solamente si tiene 6 letras o más."
   ]
  },
  {
   "cell_type": "markdown",
   "id": "109b607c",
   "metadata": {},
   "source": []
  },
  {
   "cell_type": "code",
   "execution_count": 66,
   "id": "608a7fe9",
   "metadata": {},
   "outputs": [
    {
     "name": "stdout",
     "output_type": "stream",
     "text": [
      "Channel\n",
      "Cartier\n",
      "miu miu\n",
      "Calvin Klein\n",
      "Burberry\n"
     ]
    }
   ],
   "source": [
    "#cant= len('hola')\n",
    "#print(cant)\n",
    "marcas = ['Channel', 'Cartier', 'miu miu', 'Calvin Klein', 'Burberry']\n",
    "for marca in marcas:\n",
    "    if len(marca) >=6:\n",
    "     print(marca)\n"
   ]
  },
  {
   "cell_type": "code",
   "execution_count": 74,
   "id": "a4cd6fed",
   "metadata": {},
   "outputs": [
    {
     "name": "stdout",
     "output_type": "stream",
     "text": [
      "se encontro la O\n",
      "se encontro la O\n",
      "se encontro la O\n",
      "se encontro la O\n"
     ]
    }
   ],
   "source": [
    "\n",
    "frase = input(('Ingrese una frase'))\n",
    "for letra in frase:\n",
    " if letra == 'o':\n",
    "    print(\"se encontro la O\")"
   ]
  }
 ],
 "metadata": {
  "kernelspec": {
   "display_name": "Python 3",
   "language": "python",
   "name": "python3"
  },
  "language_info": {
   "codemirror_mode": {
    "name": "ipython",
    "version": 3
   },
   "file_extension": ".py",
   "mimetype": "text/x-python",
   "name": "python",
   "nbconvert_exporter": "python",
   "pygments_lexer": "ipython3",
   "version": "3.12.3"
  }
 },
 "nbformat": 4,
 "nbformat_minor": 5
}
