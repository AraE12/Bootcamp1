{
 "cells": [
  {
   "cell_type": "markdown",
   "id": "4a8b774f",
   "metadata": {},
   "source": [
    "Challenge 2  - 20 min\n",
    "Crear una función que reciba dos letras (parámetros) y que verifique si son iguales:\n",
    "\n",
    "Si son iguales, imprimir \"Las letras son iguales\".\n",
    "\n",
    "De lo contrario, imprimir \"Las letras son diferentes\"."
   ]
  },
  {
   "cell_type": "code",
   "execution_count": 15,
   "id": "98a2b3a2",
   "metadata": {},
   "outputs": [
    {
     "name": "stdout",
     "output_type": "stream",
     "text": [
      "Las letras son iguales\n"
     ]
    }
   ],
   "source": [
    "def dos_letras(letra1, letra2):\n",
    "\n",
    "     if letra1 == letra2:\n",
    "        print('Las letras son iguales')\n",
    "     else :\n",
    "        print('Las letras son diferentes')\n",
    "dos_letras('a', 'a')\n"
   ]
  },
  {
   "cell_type": "markdown",
   "id": "269afbc7",
   "metadata": {},
   "source": [
    "Challenge 3 🤺 - 20m\n",
    "Crear una función que reciba dos parámetros (una palabra y un número), y que retorne True si el número es igual a la cantidad de letras de la palabra. En caso contrario, que retorne False."
   ]
  },
  {
   "cell_type": "code",
   "execution_count": 25,
   "id": "aa10cddf",
   "metadata": {},
   "outputs": [
    {
     "data": {
      "text/plain": [
       "True"
      ]
     },
     "execution_count": 25,
     "metadata": {},
     "output_type": "execute_result"
    }
   ],
   "source": [
    "def numero_letra(letra, numero): # parametro -->(letra y numero)\n",
    "\n",
    "    if len(letra) == numero:\n",
    "        return True\n",
    "    else:\n",
    "      return False \n",
    "\n",
    "numero_letra('hola', 4)\n",
    "\n",
    "\n"
   ]
  },
  {
   "cell_type": "markdown",
   "id": "bcf5a266",
   "metadata": {},
   "source": [
    "Challenge 5  - 25m\n",
    "Pedir al usuario que ingrese 1 palabra, luego convertir esa palabra a una lista con sus caracteres con list(). Agregar esa lista de caracteres a una lista llamada palabras_ingresadas. Repetir el proceso 3 veces. Cada vez que se agregue una lista de caracteres, imprimir la lista palabras_ingresadas.\n",
    "\n",
    "\n",
    "Ejemplo del resultado esperado:\n",
    "\n",
    "[['c', 'i', 'e', 'l', 'o']]\n",
    " # Al ingresar la primera palabra\n",
    "\n",
    "[['c', 'i', 'e', 'l', 'o'], ['c', 'a', 'l', 'o', 'r']]\n",
    " # Al ingresar la segunda palabra\n",
    "\n",
    "[['c', 'i', 'e', 'l', 'o'], ['c', 'a', 'l', 'o', 'r'], ['n', 'u', 'b', 'e', 's']]\n",
    " # Al ingresar la tercera palabra"
   ]
  },
  {
   "cell_type": "code",
   "execution_count": null,
   "id": "c058c811",
   "metadata": {},
   "outputs": [
    {
     "name": "stdout",
     "output_type": "stream",
     "text": [
      "['h', 'o', 'l', 'a']\n"
     ]
    }
   ],
   "source": [
    "palabras_ingresadas = [] #Repasar esto\n",
    "\n",
    "for i in range(3):\n",
    "    palabra = input(\"Ingresa una palabra: \")\n",
    "    lista_caracteres = list(palabra)\n",
    "    palabras_ingresadas.append(lista_caracteres)\n",
    "    print(palabras_ingresadas)\n"
   ]
  },
  {
   "cell_type": "code",
   "execution_count": 28,
   "id": "6afe5170",
   "metadata": {},
   "outputs": [
    {
     "name": "stdout",
     "output_type": "stream",
     "text": [
      "[['h', 'o', 'l', 'a']]\n",
      "[['h', 'o', 'l', 'a'], ['l', 'o', 'l', 'o']]\n",
      "[['h', 'o', 'l', 'a'], ['l', 'o', 'l', 'o'], ['p', 'o', 'l', 'o']]\n"
     ]
    }
   ],
   "source": [
    "lista_de_listas = [] #tambien esta bien\n",
    "\n",
    "palabra = input(\"primera palabra\")\n",
    "lista = list(palabra) \n",
    "lista_de_listas.append (lista)\n",
    "print (lista_de_listas)\n",
    "\n",
    "palabra1 = input(\"segunda palabra\")\n",
    "lista1 = list(palabra1)\n",
    "lista_de_listas.append (lista1)\n",
    "print(lista_de_listas)\n",
    "\n",
    "palabra2 = input(\"tercera palabra\")\n",
    "lista2 = list(palabra2)\n",
    "lista_de_listas.append (lista2)\n",
    "print(lista_de_listas)"
   ]
  },
  {
   "cell_type": "markdown",
   "id": "261c0887",
   "metadata": {},
   "source": [
    "Challenge 6  - 25m\n",
    "Dada la lista de ejemplo: \n",
    "\n",
    "lista = [['h', 'o', 'l', 'i', 's'], ['h', 'e', 'l', 'l', 'o'], ['h', 'a', 'l', 'l', 'o']]\n",
    "\n",
    "Crear una función que imprima una grilla (lista de listas), una línea por cada lista dentro de la lista principal.\n",
    "\n",
    "Ejemplo del resultado esperado:\n",
    "\n",
    "['h', 'o', 'l', 'i', 's']\n",
    "['h', 'e', 'l', 'l', 'o']\n",
    "['h', 'a', 'l', 'l', 'o']\n"
   ]
  },
  {
   "cell_type": "code",
   "execution_count": null,
   "id": "f0311ae6",
   "metadata": {},
   "outputs": [],
   "source": [
    "lista = [['h', 'o', 'l', 'i', 's'], ['h', 'e', 'l', 'l', 'o'], ['h', 'a', 'l', 'l', 'o']]\n",
    "def imprimir_grilla() :"
   ]
  },
  {
   "cell_type": "code",
   "execution_count": null,
   "id": "d36c5db9",
   "metadata": {},
   "outputs": [],
   "source": []
  }
 ],
 "metadata": {
  "kernelspec": {
   "display_name": "Python 3",
   "language": "python",
   "name": "python3"
  },
  "language_info": {
   "codemirror_mode": {
    "name": "ipython",
    "version": 3
   },
   "file_extension": ".py",
   "mimetype": "text/x-python",
   "name": "python",
   "nbconvert_exporter": "python",
   "pygments_lexer": "ipython3",
   "version": "3.12.3"
  }
 },
 "nbformat": 4,
 "nbformat_minor": 5
}
